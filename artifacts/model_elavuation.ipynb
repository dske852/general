{
 "cells": [
  {
   "cell_type": "code",
   "execution_count": 10,
   "metadata": {},
   "outputs": [],
   "source": [
    "import pickle\n",
    "import pandas as pd\n",
    "#from sklearn.compose import ColumnTransformer\n",
    "#from sklearn.impute import SimpleImputer\n",
    "#from sklearn.pipeline import Pipeline\n",
    "#from sklearn.preprocessing import OneHotEncoder,StandardScaler, OrdinalEncoder"
   ]
  },
  {
   "cell_type": "code",
   "execution_count": 82,
   "metadata": {},
   "outputs": [],
   "source": [
    "test_df=pd.read_csv('test.csv')\n",
    "train_df=pd.read_csv('train.csv')"
   ]
  },
  {
   "cell_type": "code",
   "execution_count": 81,
   "metadata": {},
   "outputs": [],
   "source": [
    "best_model = pickle.load(open(\"model.pkl\", 'rb'))"
   ]
  },
  {
   "cell_type": "code",
   "execution_count": 83,
   "metadata": {},
   "outputs": [],
   "source": [
    "preprocessor = pickle.load(open(\"preprocessor.pkl\", 'rb'))"
   ]
  },
  {
   "cell_type": "code",
   "execution_count": 84,
   "metadata": {},
   "outputs": [],
   "source": [
    "test_df2=preprocessor.fit_transform(test_df)"
   ]
  },
  {
   "cell_type": "code",
   "execution_count": 85,
   "metadata": {},
   "outputs": [],
   "source": [
    "train_df2=preprocessor.fit_transform(train_df)"
   ]
  },
  {
   "cell_type": "code",
   "execution_count": 86,
   "metadata": {},
   "outputs": [],
   "source": [
    "model=best_model.fit(train_df2.drop('species', axis=1), train_df2.loc[:,'species'])"
   ]
  },
  {
   "cell_type": "code",
   "execution_count": 87,
   "metadata": {},
   "outputs": [],
   "source": [
    "y_test_pred = best_model.predict(test_df2.drop('species', axis=1))"
   ]
  },
  {
   "cell_type": "code",
   "execution_count": 88,
   "metadata": {},
   "outputs": [
    {
     "name": "stdout",
     "output_type": "stream",
     "text": [
      "Classification Report:\n",
      "              precision    recall  f1-score   support\n",
      "\n",
      "           0       1.00      1.00      1.00       132\n",
      "           1       0.98      0.99      0.98       132\n",
      "           2       0.99      0.98      0.98       132\n",
      "\n",
      "    accuracy                           0.99       396\n",
      "   macro avg       0.99      0.99      0.99       396\n",
      "weighted avg       0.99      0.99      0.99       396\n",
      "\n",
      "Balanced Accuracy Score: 0.98989898989899\n",
      "Precision: 0.9899732108687332\n",
      "Recall: 0.98989898989899\n",
      "F1-Score: 0.9898984101475062\n",
      "Mean Absolute Error: 0.010101010101010102\n",
      "Root Mean Squared Error: 0.10050378152592121\n"
     ]
    },
    {
     "data": {
      "image/png": "[encoded data removed]",
      "text/plain": [
       "<Figure size 1000x700 with 2 Axes>"
      ]
     },
     "metadata": {},
     "output_type": "display_data"
    },
    {
     "name": "stdout",
     "output_type": "stream",
     "text": [
      "############# 1 Star Tolerance #############\n",
      "Accuracy with 1 Star Tolerance: 1.0\n",
      "Precision with 1 Star Tolerance: 0.9899732108687332\n",
      "Recall with 1 Star Tolerance: 0.98989898989899\n",
      "F1-Score with 1 Star Tolerance: 0.9898984101475062\n",
      "############# 1 Star Tolerance - More #############\n",
      "Accuracy with 1 Star More Tolerance: 0.9924242424242424\n",
      "Precision with 1 Star More Tolerance: 0.9974750440399296\n",
      "Recall with 1 Star More Tolerance: 0.9974554707379135\n",
      "F1-Score with 1 Star More Tolerance: 0.9974555454484634\n",
      "############# 1 Star Tolerance - Less #############\n",
      "Accuracy with 1 Star Less Tolerance: 0.9974747474747475\n",
      "Precision with 1 Star Less Tolerance: 0.9925750991876062\n",
      "Recall with 1 Star Less Tolerance: 0.9924050632911392\n",
      "F1-Score with 1 Star Less Tolerance: 0.99240440443738\n"
     ]
    }
   ],
   "source": [
    "evaluate_model(y_test_pred, test_df2.loc[:,'species'])"
   ]
  },
  {
   "cell_type": "code",
   "execution_count": 79,
   "metadata": {},
   "outputs": [],
   "source": [
    "import numpy as np\n",
    "import pandas as pd\n",
    "from sklearn.metrics import classification_report, balanced_accuracy_score, confusion_matrix, precision_score, recall_score, f1_score, mean_absolute_error, mean_squared_error\n",
    "import seaborn as sns\n",
    "import matplotlib.pyplot as plt\n",
    "from itertools import chain, combinations\n",
    "\n",
    "def evaluate_model(predictions, y, rounding=False):\n",
    "    if rounding:\n",
    "        predictions = np.round(predictions)\n",
    "    \n",
    "    print('Classification Report:')\n",
    "    print(classification_report(y, predictions))\n",
    "    \n",
    "    print(\"Balanced Accuracy Score:\", balanced_accuracy_score(y, predictions))\n",
    "    \n",
    "    print(\"Precision:\", precision_score(y, predictions, average='weighted'))\n",
    "    print(\"Recall:\", recall_score(y, predictions, average='weighted'))\n",
    "    print(\"F1-Score:\", f1_score(y, predictions, average='weighted'))\n",
    "    \n",
    "    y_1d = np.ravel(y)  # Reshape y to be 1-dimensional\n",
    "    predictions_1d = np.ravel(predictions)  # Reshape predictions to be 1-dimensional\n",
    "    \n",
    "    # Mean Absolute Error (MAE)\n",
    "    print(\"Mean Absolute Error:\", mean_absolute_error(y_1d, predictions_1d))\n",
    "    \n",
    "    # Root Mean Squared Error (RMSE)\n",
    "    print(\"Root Mean Squared Error:\", np.sqrt(mean_squared_error(y_1d, predictions_1d)))\n",
    "    \n",
    "    cm = confusion_matrix(y, predictions)\n",
    "    plt.figure(figsize=(10, 7))\n",
    "    sns.heatmap(cm, annot=True, fmt=\"d\")\n",
    "    plt.title(\"Confusion Matrix\")\n",
    "    plt.xlabel(\"Predicted Label\")\n",
    "    plt.ylabel(\"True Label\")\n",
    "    plt.show()\n",
    "    \n",
    "    print(\"############# 1 Star Tolerance #############\")\n",
    "    \n",
    "    print(\"Accuracy with 1 Star Tolerance:\", np.mean(np.abs(y_1d - predictions_1d) <= 1))\n",
    "    print(\"Precision with 1 Star Tolerance:\", precision_score(y_1d, predictions_1d, average='weighted', zero_division=1, pos_label=1, sample_weight=np.abs(y_1d - predictions_1d) <= 1))\n",
    "    print(\"Recall with 1 Star Tolerance:\", recall_score(y_1d, predictions_1d, average='weighted', zero_division=1, pos_label=1, sample_weight=np.abs(y_1d - predictions_1d) <= 1))\n",
    "    print(\"F1-Score with 1 Star Tolerance:\", f1_score(y_1d, predictions_1d, average='weighted', zero_division=1, pos_label=1, sample_weight=np.abs(y_1d - predictions_1d) <= 1))\n",
    "    \n",
    "    \n",
    "    diff = predictions_1d - y_1d\n",
    "    \n",
    "    print(\"############# 1 Star Tolerance - More #############\")\n",
    "    diff_more = (diff >= 0) & (diff <= 1)\n",
    "    print(\"Accuracy with 1 Star More Tolerance:\", np.mean(diff_more))\n",
    "    print(\"Precision with 1 Star More Tolerance:\", precision_score(y_1d, predictions_1d, average='weighted', zero_division=1, pos_label=1, sample_weight=diff_more))\n",
    "    print(\"Recall with 1 Star More Tolerance:\", recall_score(y_1d, predictions_1d, average='weighted', zero_division=1, pos_label=1, sample_weight=diff_more))\n",
    "    print(\"F1-Score with 1 Star More Tolerance:\", f1_score(y_1d, predictions_1d, average='weighted', zero_division=1, pos_label=1, sample_weight=diff_more))\n",
    "    \n",
    "    print(\"############# 1 Star Tolerance - Less #############\")\n",
    "    diff_less = (diff <= 0) & (diff >= -1)\n",
    "    print(\"Accuracy with 1 Star Less Tolerance:\", np.mean(diff_less))\n",
    "    print(\"Precision with 1 Star Less Tolerance:\", precision_score(y_1d, predictions_1d, average='weighted', zero_division=1, pos_label=1, sample_weight=diff_less))\n",
    "    print(\"Recall with 1 Star Less Tolerance:\", recall_score(y_1d, predictions_1d, average='weighted', zero_division=1, pos_label=1, sample_weight=diff_less))\n",
    "    print(\"F1-Score with 1 Star Less Tolerance:\", f1_score(y_1d, predictions_1d, average='weighted', zero_division=1, pos_label=1, sample_weight=diff_less))\n",
    "    "
   ]
  },
  {
   "cell_type": "code",
   "execution_count": null,
   "metadata": {},
   "outputs": [],
   "source": []
  }
 ],
 "metadata": {
  "kernelspec": {
   "display_name": "Python 3",
   "language": "python",
   "name": "python3"
  },
  "language_info": {
   "codemirror_mode": {
    "name": "ipython",
    "version": 3
   },
   "file_extension": ".py",
   "mimetype": "text/x-python",
   "name": "python",
   "nbconvert_exporter": "python",
   "pygments_lexer": "ipython3",
   "version": "3.8.18"
  }
 },
 "nbformat": 4,
 "nbformat_minor": 2
}
